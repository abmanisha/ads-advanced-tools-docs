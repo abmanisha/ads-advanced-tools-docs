{
 "cells": [
  {
   "cell_type": "markdown",
   "id": "1dbca2da-4783-4e04-8fe5-b9c67b52b85f",
   "metadata": {},
   "source": [
    "# Onboarding and getting started with AMC APIs using Python \n",
    "\n",
    "The Amazon Marketing Cloud (AMC) API Python collection is a set of pre-configured Python code that enables you to easily onboard Amazon Ads and start exploring AMC APIs.\n",
    "\n",
    "This collection contains the libraries, functions, and code required to get you onboarded Amazon Ads. Which means, some sections of this collection need to be executed only once to help you with your initial access and onboarding process, while the others must be executed before the start of every session.\n",
    "\n",
    "To use this collection, ensure you have installed:\n",
    "- Python (version >=3.8) with urllib3<2.0.0,>=1.25.8\n",
    "- AWS CLI with botocore (required if you are using AWS Secrets Manager)\n",
    "\n",
    "To onboard the Amazon Ads API, you must complete the following prerequisites:\n",
    "\n",
    "- **Create a Login with Amazon application**: Requests to the Amazon Ads API are made by a client application administered by Login with Amazon.\n",
    "- **Apply for permission to access Amazon Ads API**: The application form includes questions about how your business intends to use the Amazon Ads API, as well as information about the Amazon Ads API License Agreement, the Data Protection Policy, and Amazon Marketing Cloud Terms. If you are a partner, visit the Amazon Ads Partner page for information on how to apply for access to the API.\n",
    "- **Assign API access to your Login with Amazon application**. This step must be completed after your application is granted permission to access Amazon Ads API along with the scopes your application can use.\n",
    "\n",
    "You can now execute each code block to begin your onboarding journey. \n",
    "\n",
    "## Onboard Amazon Ads API\n",
    "\n",
    "To initiate your onboarding journey, perform the following steps:\n",
    "\n",
    "- [Import required libraries](#import-libraries)\n",
    "- [Run functions](#run-functions-at-the-start-of-each-session)\n",
    "- [Manager credentials through secrets manager (optional)](#manage-credentials-through-a-secrets-manager)\n",
    "- [Create an authorization grant](#create-an-authorization-grant)\n",
    "- [Understand mandatory header parameters]()\n",
    "\n",
    "## Get started with AMC APIs\n",
    "If you have already onboarded Amazon Ads API, perform the following steps before to explore AMC APIs using this collection:\n",
    "- [Import required libraries](#import-libraries)\n",
    "- [Run functions](#run-functions-at-the-start-of-each-session)\n",
    "- [Generate access and refresh tokens](#generate-refresh-access-token-at-start-of-every-session)\n",
    "- [Explore AMC APIs](#amc-apis)\n"
   ]
  },
  {
   "cell_type": "markdown",
   "id": "593aeeec",
   "metadata": {},
   "source": [
    "### Import libraries\n",
    "\n",
    "Libraries required to run this collection must be imported during onboarding and at the start of every session. To import libraries, execute the following code block. "
   ]
  },
  {
   "cell_type": "code",
   "execution_count": null,
   "id": "3249c94f-ba86-4670-a309-4d72255c72a7",
   "metadata": {
    "tags": []
   },
   "outputs": [],
   "source": [
    "## Import Libraries \n",
    "## Execute this code block before each session to import libraries\n",
    "import requests\n",
    "import json\n",
    "import pandas as pd\n",
    "import boto3\n",
    "from botocore.exceptions import ClientError\n",
    "from pprint import pprint\n",
    "import sys"
   ]
  },
  {
   "cell_type": "markdown",
   "id": "322cd313",
   "metadata": {},
   "source": [
    "### Functions used in the collection\n",
    "\n",
    "The following functions are used by the code blocks in this collection and must be executed while onboarding Amazon Ads API and at the start of each session. \n",
    "To initialize the functions referenced through the this collection, execute the following code block. "
   ]
  },
  {
   "cell_type": "code",
   "execution_count": null,
   "id": "97345582",
   "metadata": {},
   "outputs": [],
   "source": [
    "## Functions\n",
    "\n",
    "## Execute this code block before each session to initialize the functions to use\n",
    "\n",
    "## Function to retrieve credentials from secrets manager\n",
    "\n",
    "def get_secret(secret_name, region_name):\n",
    "\n",
    "    ## Create a Secrets Manager client\n",
    "    session = boto3.session.Session()\n",
    "    client = session.client(\n",
    "        service_name='secretsmanager',\n",
    "        region_name=region_name\n",
    "    )\n",
    "\n",
    "    try:\n",
    "        get_secret_value_response = client.get_secret_value(\n",
    "            SecretId=secret_name\n",
    "        )\n",
    "    except ClientError as e:\n",
    "        ## For a list of exceptions thrown, see\n",
    "        ## https://docs.aws.amazon.com/secretsmanager/latest/apireference/API_GetSecretValue.html\n",
    "        raise e\n",
    "        \n",
    "    print(\"Secrets retrieved\")\n",
    "    \n",
    "    return json.loads(get_secret_value_response['SecretString'])\n",
    "\n",
    "\n",
    "## Function to refresh access token\n",
    "\n",
    "def refresh_access_token(url, Clientid, Clientsecret, refresh_token):\n",
    "    refresh_body = {\"grant_type\": \"refresh_token\",\n",
    "                 \"client_id\": Clientid,\n",
    "               \"client_secret\": Clientsecret,\n",
    "               \"refresh_token\": refresh_token}\n",
    "\n",
    "    r = requests.post(url, data = refresh_body)\n",
    "\n",
    "    if r.ok:\n",
    "        access_token = r.json()['access_token']\n",
    "        print(\"Token refreshed successfully\")\n",
    "        \n",
    "        return access_token\n",
    "    else:\n",
    "        print('Response Code is: ', r)\n",
    "        print('Error message is: ', r.text)\n",
    "        raise Exception(\"Access token failed to refresh\")"
   ]
  },
  {
   "cell_type": "markdown",
   "id": "29861323",
   "metadata": {},
   "source": [
    "### Manage credentials through a secrets manager\n",
    "\n",
    "In this example, we are using [AWS Secrets Manager](https://docs.aws.amazon.com/secretsmanager/latest/userguide/retrieving-secrets-python-sdk.html) to manage our credentials. \n",
    "\n",
    "> **_NOTE:_** Know that this is not an essential step and you can choose to hard-code your credentials here or use any other secrets manager. However using a secrets manager is encouraged over hardcoding."
   ]
  },
  {
   "cell_type": "code",
   "execution_count": null,
   "id": "1e096605",
   "metadata": {},
   "outputs": [],
   "source": [
    "## Modify the values of the variables in this code block that the collection will refer to. Execute it at the start of each session.\n",
    "\n",
    "## In our example, we store the Clientid, Clientsecret, returnurl, and refresh_token in the secrets manager. \n",
    "## These variables help with authenticating your calls. \n",
    "## While Clientid, Clientsecret, returnurl are constant variables, \n",
    "## you will need to update the your secrets manager with the value of refresh_token at the start of each session.    \n",
    "\n",
    "## Set Variables\n",
    "secret_name = \"secrets-name-here\"\n",
    "region_name = \"us-east-1\"\n",
    "    \n",
    "secretDict = get_secret(secret_name = secret_name, region_name=region_name)\n",
    "Clientid = secretDict['Clientid']\n",
    "Clientsecret = secretDict['Clientsecret']\n",
    "returnurl = secretDict['returnurl']\n",
    "\n",
    "## Update the value of refresh token after you generate the access token and refresh tokens the first time. \n",
    "## After refresh tokens are generated initialize here. This value must be updated at the start of each session.  \n",
    "\n",
    "#refresh_token = secretDict['refreshToken']\n",
    "\n",
    "## Store the instance ID of your instance here. You will not need the instanceid for onboarding.\n",
    "## After onboarding, uncomment the line below and update the value to store your instance id. In this example, the instanceid is 'amc-instance01'. \n",
    "\n",
    "instanceid = 'amc-instance01'\n",
    "\n",
    "## Your AMC Account Id, also referred to as entityId here\n",
    "## In this example, the entityId is 'ENTITY1AA1AA11AAA1'   \n",
    "## if you don't know this this value use the GET operation of the `/amc/accounts` endpoint that returns a list of all the accounts your client Id has access to\n",
    "\n",
    "#entityId = 'ENTITY1AA1AA11AAA1'"
   ]
  },
  {
   "cell_type": "markdown",
   "id": "f9306873",
   "metadata": {},
   "source": [
    "### Create an authorization grant\n",
    "\n",
    "Only approved client applications can make calls to the Amazon Ads API on behalf of an Amazon user account with access to Amazon Ads accounts.\n",
    "\n",
    "The relationship between client application and user account is administered by Login with Amazon (LwA). Accounts must explicitly grant authorization to the client application through LwA's Authorization Code Grant process to generate an authorization code. For more details, see [Create an authorization grant.](https://advertising.amazon.com/API/docs/en-us/guides/get-started/create-authorization-grant)"
   ]
  },
  {
   "cell_type": "code",
   "execution_count": null,
   "id": "ed282353",
   "metadata": {},
   "outputs": [],
   "source": [
    "## Generate an authorization grant - execute this code block only once.\n",
    "\n",
    "#urlgrant = f'https://www.amazon.com/ap/oa?client_id={Clientid}&scope=advertising::campaign_management&advertising::audiences&response_type=code&redirect_uri={returnurl}'\n",
    "\n",
    "\n",
    "print(urlgrant)"
   ]
  },
  {
   "cell_type": "markdown",
   "id": "dea1fd5a-b1b3-4c9b-942d-01d76ff1a58f",
   "metadata": {},
   "source": [
    "### Generate an access token for the first time\n",
    "\n",
    "If the parameters in the above URL are valid, the page refreshes to display your client application, asking you for permission to use the application. \n",
    "\n",
    "Click **Allow**. You will now be redirected to the 'redirect url'. \n",
    "\n",
    "The address bar of your browser also displays the authorization code that you will use to generate an access token.\n",
    "You will need to [generate an access token for the first time,](https://advertising.amazon.com/API/docs/en-us/guides/account-management/authorization/access-tokens) and use the access token to generate a refresh token. For subsequent sessions, user [refresh the access  access tokens.](https://advertising.amazon.com/API/docs/en-us/guides/account-management/authorization/access-tokens)\n",
    "\n",
    "Grab the authorization code generated here, pass it as the value for the 'code' (auth_code) parameter below.\n",
    "Note that auth_codes expire after 5 minutes of being generated."
   ]
  },
  {
   "cell_type": "code",
   "execution_count": null,
   "id": "24e53ef9-cf15-416a-9460-f0af98abf226",
   "metadata": {
    "tags": []
   },
   "outputs": [],
   "source": [
    "## Generate access token and refresh tokens - one time step \n",
    "## After your refresh token is generated through this code, you do not need once to run this code again, \n",
    "## instead use the (next) code block that uses the refresh token to generate access tokens. \n",
    "  \n",
    "tokenurl = 'https://api.amazon.com/auth/o2/token'\n",
    "auth_code = 'Insert authorization code generated in your redirect url'\n",
    "\n",
    "\n",
    "token_body = {\"grant_type\": 'authorization_code',\n",
    "              \"client_id\": 'Clientid',\n",
    "            \"client_secret\": 'Clientsecret',\n",
    "            \"redirect_uri\": 'returnurl',\n",
    "            \"code\": 'auth_code'}\n",
    "\n",
    "r = requests.post(tokenurl, data = token_body)\n",
    "print(r.text)\n",
    "\n",
    "if r.ok:\n",
    "     access_token = r.json()['access_token']\n",
    "     refresh_token = r.json()['refresh_token']\n",
    "\n",
    "## Save the refresh_token in your secrets manager "
   ]
  },
  {
   "cell_type": "markdown",
   "id": "7563f061",
   "metadata": {},
   "source": [
    "With that, you have completed the process to onboard to Amazon Ads. \n",
    "Now, ensure you have defined the mandatory header parameters."
   ]
  },
  {
   "cell_type": "markdown",
   "id": "dcffbfcc",
   "metadata": {},
   "source": [
    "### Mandatory header parameters\n",
    "\n",
    "Listed below are the header parameters you will need to include to most of your API requests. Some requests may require additional parameters. See the Amazon Marketing Cloud section of the [AMC API references](https://advertising.amazon.com/API/docs/en-us/reference/api-overview) for details on each request. \n",
    "\n",
    "| Header | Description |\n",
    "|---|---|\n",
    "| Amazon-Advertising-API-ClientId | The identifier of a client associated with an Amazon Developer account. |\n",
    "| Amazon-Advertising-API-MarketplaceId | The marketplace identifier for the marketplace in the request. Marketplaces are tied to the country. |\n",
    "| Amazon-Advertising-API-AdvertiserId | The AMC account identifier. Your Amazon Ads account executive would have provided you this identifier when you onboarded AMC. Alternatively, access the AMC console with your user identifier and password, and grab the entity identifier value that is displayed in the URL. The alphanumeric code that is prefixed with ENTITY is your account identifier. You can also use the GET operation of the `/amc/accounts` endpoint that returns a list of all the accounts your client Id has access to. An example of an account identifier is: ENTITY1AA1AA11AAA1. |\n",
    "| Authorization | Login with Amazon token in the form of Bearer {token} |\n"
   ]
  },
  {
   "cell_type": "markdown",
   "id": "ebc6df8b-e57f-4fa8-a182-3b2bcbef0f87",
   "metadata": {},
   "source": [
    "### Generate refresh access token\n",
    "\n",
    "Once tokens have been retrieved using the authorization code, a new access token [can be retrieved at any time using the refresh token.](https://advertising.amazon.com/API/docs/en-us/guides/account-management/authorization/access-tokens#generating-an-access-token-using-a-refresh-token) \n",
    "This step must be performed at the start of each session. "
   ]
  },
  {
   "cell_type": "code",
   "execution_count": null,
   "id": "39dc254f-612c-491b-9da5-c4ab2633a287",
   "metadata": {
    "tags": []
   },
   "outputs": [],
   "source": [
    "## Refresh access token for each session \n",
    "## Refresh tokens are valid for one hour\n",
    "\n",
    "access_token =  refresh_access_token(url = 'https://api.amazon.com/auth/o2/token', \n",
    "                     Clientid=Clientid,Clientsecret=Clientsecret, \n",
    "                     refresh_token=refresh_token) \n",
    "\n",
    "\n",
    "url = 'https://advertising-api.amazon.com'\n",
    "\n",
    "## For this collection, we'll use the marketplaceId for North America\n",
    "\n",
    "headers = {\n",
    "        'Authorization': 'Bearer ' + access_token,\n",
    "        'Amazon-Advertising-API-ClientId': Clientid,\n",
    "        'Amazon-Advertising-API-MarketplaceId': 'ATVPDKIKX0DER'\n",
    "## Your Amazon Ads account executive would have provided you this an entity identifier (entityId) when you onboarded AMC. \n",
    "## This entity id is referred to as Amazon-Advertising-API-AdvertiserId in the headers.\n",
    "## Access the AMC console with your user identifier and password, and grab the entity identifier value that is displayed in the URL. \n",
    "## The alphanumeric code that is prefixed with ENTITY is your account identifier. An example of an entityId is: ENTITY1AA1AA11AAA1.\n",
    "## Update this value with the entityId\n",
    "        #'Amazon-Advertising-API-AdvertiserId': ENTITY1AA1AA11AAA1\n",
    "\n",
    "       }"
   ]
  },
  {
   "cell_type": "markdown",
   "id": "ffd734e8",
   "metadata": {},
   "source": [
    "## AMC APIs\n",
    "\n",
    "- [AMC account and instance administration APIs]()\n",
    "- [AMC Reporting APIs - Workflow management service]()\n",
    "    - Manage workflows\n",
    "    - Manage workflow schedules\n",
    "    - Manage workflow executions "
   ]
  },
  {
   "cell_type": "markdown",
   "id": "9ae545e4",
   "metadata": {},
   "source": [
    "### AMC account and instance administration APIs\n",
    "\n",
    "Your instances are linked to an account. While only an AMC admin can manage user access to the instances associated with the account, all users can view the details of an AMC their instance is part of.\n",
    "Use the request below to list the AMC account values that you will pass as a required value for the 'Amazon-Advertising-API-AdvertiserId' header parameter, which is mandatory for all API calls. Additionally, the  response also returns the 'Amazon-Advertising-API-MarketplaceId', which is the marketplace of the account.  "
   ]
  },
  {
   "cell_type": "code",
   "execution_count": null,
   "id": "14a221e0-c37e-4919-a6e9-d04057701c95",
   "metadata": {
    "tags": []
   },
   "outputs": [],
   "source": [
    "## List AMC account\n",
    "\n",
    "r = requests.get(url +  \"/amc/accounts\", headers = headers)\n",
    "\n",
    "print(r)\n",
    "print(r.text)\n",
    "\n",
    "if r.ok:\n",
    "    ## Select which element of the list is the correct choice for your use case. \n",
    "    # Replace 'X' with the chosen integer to get a single value\n",
    "\n",
    "    accountId = r.json()['amcAccounts'][X]['accountId']\n",
    "    marketplaceId = r.json()['amcAccounts'][X]['marketplaceId']\n",
    "    \n",
    "    print(accountId, marketplaceId)"
   ]
  },
  {
   "cell_type": "code",
   "execution_count": null,
   "id": "a6a37471-57a3-4850-ab1e-9ba032b5ec21",
   "metadata": {
    "tags": []
   },
   "outputs": [],
   "source": [
    "## View the AMC instances associated with your account\n",
    "\n",
    "instances = requests.get(url + '/amc/instances', headers = headers)\n",
    "print(instances)\n",
    "print(instances.json()['instances'])"
   ]
  },
  {
   "cell_type": "markdown",
   "id": "dbbf6831-64e0-4b66-a1a8-ce1ba3e963ed",
   "metadata": {
    "tags": []
   },
   "source": [
    "### AMC Reporting APIs - Workflow management service\n",
    "\n",
    "#### Manage workflows "
   ]
  },
  {
   "cell_type": "code",
   "execution_count": null,
   "id": "68afe27c-4245-4121-b6c9-023debf5a65a",
   "metadata": {
    "tags": []
   },
   "outputs": [],
   "source": [
    "## List Existing Workflow\n",
    "\n",
    "print(instanceid)\n",
    "url = 'https://advertising-api.amazon.com'\n",
    "\n",
    "r = requests.get(url + f'/amc/reporting/{instanceid}/workflows', headers = headers)\n",
    "print(r)\n",
    "if r.ok:\n",
    "    print(r.text[:50])\n",
    "    #pprint(r.json())\n",
    "else:\n",
    "    print(f\"Error: {r.text}\")"
   ]
  },
  {
   "cell_type": "markdown",
   "id": "c95a5ca8",
   "metadata": {},
   "source": [
    "##### AMC SQL\n",
    "\n",
    "AMC supports most of the basic query operations Structured Query Language (SQL) offers. We refer to the SQL used in AMC as AMC SQL. For details on on the AMC SQL functions, its limitations, and guidance on optimizing AMC SQL queries, see [AMC SQL.](https://advertising.amazon.com/API/docs/en-us/guides/amazon-marketing-cloud/amc-sql/overview)  \n",
    "\n",
    "While AMC APIs require you to construct your SQL queries as a single-line query, stripped of of tabs and new-line delimiters, before adding it to the request body, the SQL queries here do NOT need to be constructed as a single-line query. \n",
    "\n",
    "\n",
    "For example, we will be using the following SQL body:\n",
    "\n",
    "(# This code snippet is for illustration purpose; executing this will not yield results)"
   ]
  },
  {
   "cell_type": "markdown",
   "id": "2077b09e",
   "metadata": {},
   "source": [
    "```SQL\n",
    "\n",
    "SELECT\n",
    "campaign,\n",
    "SUM(total_purchases) AS total_orders_9d\n",
    "FROM\n",
    "amazon_attributed_events_by_traffic_time\n",
    "WHERE\n",
    "SECONDS_BETWEEN(traffic_event_dt_utc, conversion_event_dt_utc) <= 60 * 60 * 24 * 9\n",
    "GROUP BY\n",
    "campaign\n",
    "\n",
    "```"
   ]
  },
  {
   "cell_type": "markdown",
   "id": "1acf48e6",
   "metadata": {},
   "source": [
    "When defining your SQL body to use in the workflow template, you can choose to leave it as above. \n",
    "Or, define it as a single-line query as illustrated below:"
   ]
  },
  {
   "cell_type": "code",
   "execution_count": null,
   "id": "df4252d1-d2ba-471b-948f-85e12acce547",
   "metadata": {
    "tags": []
   },
   "outputs": [],
   "source": [
    "## Define SQL body that your workflow will use\n",
    "sql = \"\"\"\n",
    "SELECT campaign, SUM(total_purchases) AS total_orders_9d FROM amazon_attributed_events_by_traffic_time WHERE SECONDS_BETWEEN(traffic_event_dt_utc, conversion_event_dt_utc) <= 60 * 60 * 24 * 9 GROUP BY campaign\n",
    "\"\"\""
   ]
  },
  {
   "cell_type": "code",
   "execution_count": null,
   "id": "71ed653c-4c27-448d-b9b8-74eaa5279f73",
   "metadata": {
    "tags": []
   },
   "outputs": [],
   "source": [
    "## Create workflow template to call the SQL code defined above\n",
    "body = {\n",
    "        \"workflowId\": \"workflow-name\",\n",
    "        \"distinctUserCountColumn\": \"du_count\",\n",
    "        \"filteredMetricsDiscriminatorColumn\": \"filtered\",\n",
    "        \"filteredReasonColumn\": \"true\",\n",
    "        \"sqlQuery\": sql,\n",
    "        }\n",
    "\n",
    "r = requests.post(url + f'/amc/reporting/{instanceid}/workflows', headers = headers, data = json.dumps(body))\n",
    "print(r)\n",
    "print(r.text)"
   ]
  },
  {
   "cell_type": "code",
   "execution_count": null,
   "id": "252dbd7d-cfe2-4e76-93de-f83cd184e694",
   "metadata": {
    "tags": []
   },
   "outputs": [],
   "source": [
    "## Delete Workflow Template\n",
    "r = requests.delete(url + f'/amc/reporting/{instanceid}/workflows/workflow-name', headers = headers)\n",
    "print(r)\n",
    "print(r.text)"
   ]
  },
  {
   "cell_type": "markdown",
   "id": "dd3eac98-41aa-4f21-8f50-6843cced5d1b",
   "metadata": {},
   "source": [
    "#### Manage workflow schedules"
   ]
  },
  {
   "cell_type": "code",
   "execution_count": null,
   "id": "55f46812-ff43-4676-bf18-f2fdcd350745",
   "metadata": {
    "tags": []
   },
   "outputs": [],
   "source": [
    "workflowId = 'workflow-name'\n",
    "scheduleId = 'schedule-id'"
   ]
  },
  {
   "cell_type": "code",
   "execution_count": null,
   "id": "78748810-d02e-43a5-bd01-746edd1bdff9",
   "metadata": {
    "tags": []
   },
   "outputs": [],
   "source": [
    "## List workflow schedules\n",
    "r = requests.get(url +  f'/amc/reporting/{instanceid}/schedules', headers = headers)\n",
    "print(r)\n",
    "print(r.text)"
   ]
  },
  {
   "cell_type": "code",
   "execution_count": null,
   "id": "65908d1d-bc26-41f2-9590-237e973368c8",
   "metadata": {
    "tags": []
   },
   "outputs": [],
   "source": [
    "## Create a schedule for a workflow\n",
    "body = {\n",
    "    'scheduleId': scheduleId,\n",
    "    'workflowId': workflowId,\n",
    "    'aggregationHourUtc': 8,\n",
    "    'aggregationPeriod': 'Daily',\n",
    "    'aggregationStartDay': 'Tuesday',\n",
    "    'scheduleEnabled' : 'True'\n",
    "}\n",
    "r = requests.post(url +  f'/amc/reporting/{instanceid}/schedules', headers = headers, data = json.dumps(body))\n",
    "print(r)\n",
    "print(r.text)"
   ]
  },
  {
   "cell_type": "code",
   "execution_count": null,
   "id": "21aea6e3-5fda-4b92-89db-6a4ae63f3d6e",
   "metadata": {
    "tags": []
   },
   "outputs": [],
   "source": [
    "## Retrieve a schedule\n",
    "\n",
    "r = requests.get(url +  f'/amc/reporting/{instanceid}/schedules/{scheduleId}', headers = headers)\n",
    "print(r)\n",
    "print(r.text)"
   ]
  },
  {
   "cell_type": "code",
   "execution_count": null,
   "id": "fa966396-4621-4e23-98a2-8fcf47ed0411",
   "metadata": {
    "tags": []
   },
   "outputs": [],
   "source": [
    "## Delete a schedule\n",
    "\n",
    "r = requests.delete(url +  f'/amc/reporting/{instanceid}/schedules/{scheduleId}', headers = headers)\n",
    "print(r)\n",
    "print(r.text)"
   ]
  },
  {
   "cell_type": "markdown",
   "id": "5ec521b9-39ce-4970-a69a-65b61d32682e",
   "metadata": {},
   "source": [
    "#### Manage workflow executions"
   ]
  },
  {
   "cell_type": "code",
   "execution_count": null,
   "id": "165817c5-ead3-48e0-9dcf-7aac1ccdc3e7",
   "metadata": {
    "tags": []
   },
   "outputs": [],
   "source": [
    "## Execute workflow using workflow ID\n",
    "## For detailed descriptions of each parameter, see https://advertising.amazon.com/API/docs/en-us/amc-reporting#tag/Workflows\n",
    "\n",
    "body = {\n",
    "    \"timeWindowStart\": \"2024-02-01T00:00:00Z\",\n",
    "    \"timeWindowEnd\": \"2024-03-31T00:00:00Z\",\n",
    "    \"timeWindowType\": \"EXPLICIT\",\n",
    "    \"workflowId\": \"workflow-name\",\n",
    "    \"ignoreDataGaps\": \"True\",\n",
    "    \"workflowExecutionTimeoutSeconds\": \"86400\"\n",
    "    ##If using a Sandbox instance, uncomment the following:\n",
    "    #\"requireSyntheticData\": \"True\"\n",
    " }\n",
    "\n",
    "r = requests.post(url + f'/amc/reporting/{instanceid}/workflowExecutions', headers = headers, data = json.dumps(body))\n",
    "print(r)\n",
    "print(r.text)\n",
    "\n",
    "if r.ok:\n",
    "    workflowExecutionId = r.json()['workflowExecutionId']\n",
    "    print(\"workflowExecutionId updated\") "
   ]
  },
  {
   "cell_type": "code",
   "execution_count": null,
   "id": "bf111537-6165-412b-b9fe-2c238f9d560a",
   "metadata": {
    "tags": []
   },
   "outputs": [],
   "source": [
    "## Pull the workflowExecutionId from original workflow execute request \n",
    "## Overwrite value set in previous cell if needed\n",
    "\n",
    "# workflowExecutionId = \"11111111\""
   ]
  },
  {
   "cell_type": "code",
   "execution_count": null,
   "id": "bcaad5c5-302a-438b-aba2-368fcd859d8e",
   "metadata": {
    "tags": []
   },
   "outputs": [],
   "source": [
    "## List all executions of a certain workflowId. \n",
    "## Example: list past executions or find a workflowId that was not stored \n",
    "\n",
    "r = requests.get(url + f'/amc/reporting/{instanceid}/workflowExecutions?workflowId={workflowExecutionId}', headers = headers)\n",
    "print(r)\n",
    "print(r.json())"
   ]
  },
  {
   "cell_type": "code",
   "execution_count": null,
   "id": "6aca5366-1ea1-49e3-acc7-f50d4c13e91a",
   "metadata": {
    "tags": []
   },
   "outputs": [],
   "source": [
    "## Retrieve status information about the requested workflow execution.\n",
    "r = requests.get(url + f'/amc/reporting/{instanceid}/workflowExecutions/{workflowExecutionId}', headers = headers)\n",
    "print(r)\n",
    "print(r.text)\n",
    "\n",
    "if r.ok:\n",
    "    print(f\"\\n Status of workflow execution is: {r.json()['status']}\")"
   ]
  },
  {
   "cell_type": "code",
   "execution_count": null,
   "id": "2b4a28bc-562c-43eb-8f56-d49e94cb5f1d",
   "metadata": {
    "tags": []
   },
   "outputs": [],
   "source": [
    "## Retrieve pre-signed url for downloading workflow execution results from S3\n",
    "\n",
    "r = requests.get(url + f'/amc/reporting/{instanceid}/workflowExecutions/{workflowExecutionId}/downloadUrls', headers = headers)\n",
    "print(r)\n",
    "print(r.text)"
   ]
  },
  {
   "cell_type": "code",
   "execution_count": null,
   "id": "9993a8ea-1b11-4ca5-8abd-104b14684d36",
   "metadata": {
    "tags": []
   },
   "outputs": [],
   "source": [
    "## Read \"Download URL\" into pandas dataframe\n",
    "\n",
    "#df = pd.read_csv(r.json()['downloadUrls'][0])\n",
    "#df"
   ]
  }
 ],
 "metadata": {
  "kernelspec": {
   "display_name": "Python 3 (ipykernel)",
   "language": "python",
   "name": "python3"
  },
  "language_info": {
   "codemirror_mode": {
    "name": "ipython",
    "version": 3
   },
   "file_extension": ".py",
   "mimetype": "text/x-python",
   "name": "python",
   "nbconvert_exporter": "python",
   "pygments_lexer": "ipython3",
   "version": "3.10.9"
  }
 },
 "nbformat": 4,
 "nbformat_minor": 5
}
